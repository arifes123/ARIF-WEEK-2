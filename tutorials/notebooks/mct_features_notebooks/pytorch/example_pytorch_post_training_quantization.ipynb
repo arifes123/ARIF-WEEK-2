{
  "cells": [
    {
      "cell_type": "markdown",
      "id": "7cf96fb4",
      "metadata": {
        "id": "7cf96fb4"
      },
      "source": [
        "# Post-Training Quantization in PyTorch using the Model Compression Toolkit (MCT)\n",
        "[Run this tutorial in Google Colab](https://colab.research.google.com/github/sony/model_optimization/blob/main/tutorials/notebooks/mct_features_notebooks/pytorch/example_pytorch_post_training_quantization.ipynb)\n",
        "\n",
        "## Overview\n",
        "This quick-start guide explains how to use the **Model Compression Toolkit (MCT)** to quantize a PyTorch model. We will load a pre-trained model and  quantize it using the MCT with **Post-Training Quatntization (PTQ)**. Finally, we will evaluate the quantized model and export it to an ONNX file.\n",
        "\n",
        "## Summary\n",
        "In this tutorial, we will cover:\n",
        "\n",
        "1. Loading and preprocessing ImageNet’s validation dataset.\n",
        "2. Constructing an unlabeled representative dataset.\n",
        "3. Post-Training Quantization using MCT.\n",
        "4. Accuracy evaluation of the floating-point and the quantized models.\n",
        "\n",
        "## Setup\n",
        "Install the relevant packages:"
      ]
    },
    {
      "cell_type": "code",
      "execution_count": 1,
      "id": "89e0bb04",
      "metadata": {
        "id": "89e0bb04"
      },
      "outputs": [],
      "source": [
        "!pip install -q torch torchvision"
      ]
    },
    {
      "cell_type": "code",
      "execution_count": 2,
      "id": "5441efd2978cea5a",
      "metadata": {
        "id": "5441efd2978cea5a"
      },
      "outputs": [],
      "source": [
        "import importlib\n",
        "if not importlib.util.find_spec('model_compression_toolkit'):\n",
        "    !pip install model_compression_toolkit"
      ]
    },
    {
      "cell_type": "code",
      "execution_count": 3,
      "id": "a82928d0",
      "metadata": {
        "id": "a82928d0"
      },
      "outputs": [],
      "source": [
        "import torch\n",
        "from torch.utils.data import DataLoader\n",
        "from torchvision.models import mobilenet_v2, MobileNet_V2_Weights\n",
        "from torchvision.datasets import ImageNet\n",
        "import numpy as np\n",
        "import random"
      ]
    },
    {
      "cell_type": "markdown",
      "source": [
        "Load a pre-trained MobileNetV2 model from torchvision, in 32-bits floating-point precision format."
      ],
      "metadata": {
        "collapsed": false,
        "id": "3c2556ce8144e1d3"
      },
      "id": "3c2556ce8144e1d3"
    },
    {
      "cell_type": "code",
      "execution_count": 4,
      "outputs": [],
      "source": [
        "weights = MobileNet_V2_Weights.IMAGENET1K_V2\n",
        "\n",
        "float_model = mobilenet_v2(weights=weights)"
      ],
      "metadata": {
        "id": "7a302610146f1ec3"
      },
      "id": "7a302610146f1ec3"
    },
    {
      "cell_type": "markdown",
      "source": [
        "## Dataset preparation\n",
        "### Download ImageNet validation set\n",
        "Download ImageNet dataset with only the validation split.\n",
        "\n",
        "**Note** that for demonstration purposes we use the validation set for the model quantization routines. Usually, a subset of the training dataset is used, but loading it is a heavy procedure that is unnecessary for the sake of this demonstration.\n",
        "\n",
        "This step may take several minutes..."
      ],
      "metadata": {
        "collapsed": false,
        "id": "4df074784266e12e"
      },
      "id": "4df074784266e12e"
    },
    {
      "cell_type": "code",
      "execution_count": 5,
      "outputs": [],
      "source": [
        "import os\n",
        "\n",
        "if not os.path.isdir('imagenet'):\n",
        "    !mkdir imagenet\n",
        "    !wget -P imagenet https://image-net.org/data/ILSVRC/2012/ILSVRC2012_devkit_t12.tar.gz\n",
        "    !wget -P imagenet https://image-net.org/data/ILSVRC/2012/ILSVRC2012_img_val.tar"
      ],
      "metadata": {
        "id": "a8a3327f28c20caf"
      },
      "id": "a8a3327f28c20caf"
    },
    {
      "cell_type": "markdown",
      "source": [
        "Extract ImageNet validation dataset using torchvision \"datasets\" module."
      ],
      "metadata": {
        "collapsed": false,
        "id": "8ff2ea33659f0c1a"
      },
      "id": "8ff2ea33659f0c1a"
    },
    {
      "cell_type": "code",
      "execution_count": 6,
      "outputs": [],
      "source": [
        "dataset = ImageNet(root='./imagenet', split='val', transform=weights.transforms())"
      ],
      "metadata": {
        "id": "18f57edc3b87cad3"
      },
      "id": "18f57edc3b87cad3"
    },
    {
      "cell_type": "markdown",
      "id": "c0321aad",
      "metadata": {
        "id": "c0321aad"
      },
      "source": [
        "## Representative Dataset\n",
        "For quantization with MCT, we need to define a representative dataset required by the PTQ algorithm. This dataset is a generator that returns a list of images:"
      ]
    },
    {
      "cell_type": "code",
      "execution_count": 7,
      "id": "618975be",
      "metadata": {
        "id": "618975be"
      },
      "outputs": [],
      "source": [
        "batch_size = 16\n",
        "n_iter = 10\n",
        "\n",
        "dataloader = DataLoader(dataset, batch_size=batch_size, shuffle=True)\n",
        "\n",
        "def representative_dataset_gen():\n",
        "    dataloader_iter = iter(dataloader)\n",
        "    for _ in range(n_iter):\n",
        "        yield [next(dataloader_iter)[0]]\n"
      ]
    },
    {
      "cell_type": "markdown",
      "source": [
        "## Target Platform Capabilities (TPC)\n",
        "In addition, MCT optimizes the model for dedicated hardware platforms. This is done using TPC (for more details, please visit our [documentation](https://sonysemiconductorsolutions.github.io/mct-model-optimization/api/api_docs/modules/target_platform_capabilities.html)). Here, we use the default Pytorch TPC:"
      ],
      "metadata": {
        "collapsed": false,
        "id": "33271e23c3eff3b5"
      },
      "id": "33271e23c3eff3b5"
    },
    {
      "cell_type": "code",
      "execution_count": 8,
      "outputs": [],
      "source": [
        "import model_compression_toolkit as mct\n",
        "\n",
        "# Get a FrameworkQuantizationCapabilities object that models the hardware platform for the quantized model inference. Here, for example, we use the default platform that is attached to a Pytorch layers representation.\n",
        "target_platform_cap = mct.get_target_platform_capabilities('pytorch', 'default')"
      ],
      "metadata": {
        "id": "ae04779a863facd7"
      },
      "id": "ae04779a863facd7"
    },
    {
      "cell_type": "markdown",
      "id": "d0a92bee",
      "metadata": {
        "id": "d0a92bee"
      },
      "source": [
        "## Post-Training Quantization using MCT\n",
        "Now for the exciting part! Let’s run PTQ on the model."
      ]
    },
    {
      "cell_type": "code",
      "execution_count": 9,
      "id": "63f695dd",
      "metadata": {
        "id": "63f695dd",
        "colab": {
          "base_uri": "https://localhost:8080/"
        },
        "outputId": "8ebe3579-038b-4d6c-b3b0-041871de2b23"
      },
      "outputs": [
        {
          "output_type": "stream",
          "name": "stderr",
          "text": [
            "WARNING:Model Compression Toolkit:DepthwiseConv2D is not in model.\n",
            "Statistics Collection: 10it [01:08,  6.82s/it]\n",
            "Calculating quantization parameters: 100%|██████████| 102/102 [00:29<00:00,  3.52it/s]\n"
          ]
        }
      ],
      "source": [
        "quantized_model, quantization_info = mct.ptq.pytorch_post_training_quantization(\n",
        "        in_module=float_model,\n",
        "        representative_data_gen=representative_dataset_gen,\n",
        "        target_platform_capabilities=target_platform_cap\n",
        ")"
      ]
    },
    {
      "cell_type": "markdown",
      "id": "d3521637",
      "metadata": {
        "id": "d3521637"
      },
      "source": [
        "Our model is now quantized. MCT has created a simulated quantized model within the original PyTorch framework by inserting [quantization representation modules](https://github.com/sony/mct_quantizers). These modules, such as `PytorchQuantizationWrapper` and `PytorchActivationQuantizationHolder`, wrap PyTorch layers to simulate the quantization of weights and activations, respectively. While the size of the saved model remains unchanged, all the quantization parameters are stored within these modules and are ready for deployment on the target hardware. In this example, we used the default MCT settings, which compressed the model from 32 bits to 8 bits, resulting in a compression ratio of 4x. Let's print the quantized model and examine the quantization modules:"
      ]
    },
    {
      "cell_type": "markdown",
      "id": "c677bd61c3ab4649",
      "metadata": {
        "id": "c677bd61c3ab4649"
      },
      "source": [
        "## Model Evaluation\n",
        "In order to evaluate our models, we first need to load the validation dataset."
      ]
    },
    {
      "cell_type": "code",
      "execution_count": 10,
      "outputs": [
        {
          "output_type": "stream",
          "name": "stderr",
          "text": [
            "/usr/local/lib/python3.12/dist-packages/torch/utils/data/dataloader.py:627: UserWarning: This DataLoader will create 16 worker processes in total. Our suggested max number of worker in current system is 2, which is smaller than what this DataLoader is going to create. Please be aware that excessive worker creation might get DataLoader running slow or even freeze, lower the worker number to avoid potential slowness/freeze if necessary.\n",
            "  warnings.warn(\n"
          ]
        }
      ],
      "source": [
        "val_dataloader = DataLoader(dataset, batch_size=50, shuffle=False, num_workers=16, pin_memory=True)"
      ],
      "metadata": {
        "colab": {
          "base_uri": "https://localhost:8080/"
        },
        "id": "57ee11ff6934aa9f",
        "outputId": "8c3e0e26-c692-495a-b35b-5b990dc02367"
      },
      "id": "57ee11ff6934aa9f"
    },
    {
      "cell_type": "markdown",
      "source": [
        "Now, we will create a function for evaluating a model."
      ],
      "metadata": {
        "collapsed": false,
        "id": "31ced59d1514509e"
      },
      "id": "31ced59d1514509e"
    },
    {
      "cell_type": "code",
      "execution_count": 11,
      "outputs": [],
      "source": [
        "from tqdm import tqdm\n",
        "\n",
        "\n",
        "def evaluate(model, testloader):\n",
        "    \"\"\"\n",
        "    Evaluate a model using a test loader.\n",
        "    \"\"\"\n",
        "    device = torch.device(\"cuda:0\" if torch.cuda.is_available() else \"cpu\")\n",
        "    model.to(device)\n",
        "    model.eval()  # Set the model to evaluation mode\n",
        "    correct = 0\n",
        "    total = 0\n",
        "    with torch.no_grad():\n",
        "        for data in tqdm(testloader):\n",
        "            images, labels = data\n",
        "            images, labels = images.to(device), labels.to(device)\n",
        "            outputs = model(images)\n",
        "            _, predicted = outputs.max(1)\n",
        "            total += labels.size(0)\n",
        "            correct += predicted.eq(labels).sum().item()\n",
        "\n",
        "            # correct += (predicted == labels).sum().item()\n",
        "    val_acc = (100 * correct / total)\n",
        "    print('Accuracy: %.2f%%' % val_acc)\n",
        "    return val_acc"
      ],
      "metadata": {
        "id": "5f120e924b5d8cf4"
      },
      "id": "5f120e924b5d8cf4"
    },
    {
      "cell_type": "markdown",
      "source": [
        "Let's start with the floating-point model evaluation."
      ],
      "metadata": {
        "collapsed": false,
        "id": "a10499a2b79b19da"
      },
      "id": "a10499a2b79b19da"
    },
    {
      "cell_type": "code",
      "execution_count": 12,
      "id": "fdd038f7aff8cde7",
      "metadata": {
        "colab": {
          "base_uri": "https://localhost:8080/"
        },
        "id": "fdd038f7aff8cde7",
        "outputId": "1e75bc33-9702-4912-f5b7-c5f31628a882"
      },
      "outputs": [
        {
          "output_type": "stream",
          "name": "stderr",
          "text": [
            "\r  0%|          | 0/1000 [00:00<?, ?it/s]/usr/local/lib/python3.12/dist-packages/torch/utils/data/dataloader.py:666: UserWarning: 'pin_memory' argument is set as true but no accelerator is found, then device pinned memory won't be used.\n",
            "  warnings.warn(warn_msg)\n",
            "100%|██████████| 1000/1000 [57:58<00:00,  3.48s/it]"
          ]
        },
        {
          "output_type": "stream",
          "name": "stdout",
          "text": [
            "Accuracy: 72.15%\n"
          ]
        },
        {
          "output_type": "stream",
          "name": "stderr",
          "text": [
            "\n"
          ]
        },
        {
          "output_type": "execute_result",
          "data": {
            "text/plain": [
              "72.148"
            ]
          },
          "metadata": {},
          "execution_count": 12
        }
      ],
      "source": [
        "evaluate(float_model, val_dataloader)"
      ]
    },
    {
      "cell_type": "markdown",
      "id": "f4f564f31e253f5c",
      "metadata": {
        "id": "f4f564f31e253f5c"
      },
      "source": [
        "Finally, let's evaluate the quantized model:"
      ]
    },
    {
      "cell_type": "code",
      "execution_count": 13,
      "id": "c9da2134f0bde415",
      "metadata": {
        "colab": {
          "base_uri": "https://localhost:8080/"
        },
        "id": "c9da2134f0bde415",
        "outputId": "20b3514f-5870-41a5-a26f-ffe1b0abd4fb"
      },
      "outputs": [
        {
          "output_type": "stream",
          "name": "stderr",
          "text": [
            "100%|██████████| 1000/1000 [1:56:18<00:00,  6.98s/it]"
          ]
        },
        {
          "output_type": "stream",
          "name": "stdout",
          "text": [
            "Accuracy: 71.92%\n"
          ]
        },
        {
          "output_type": "stream",
          "name": "stderr",
          "text": [
            "\n"
          ]
        },
        {
          "output_type": "execute_result",
          "data": {
            "text/plain": [
              "71.918"
            ]
          },
          "metadata": {},
          "execution_count": 13
        }
      ],
      "source": [
        "evaluate(quantized_model, val_dataloader)"
      ]
    },
    {
      "cell_type": "markdown",
      "id": "fd09fa27",
      "metadata": {
        "id": "fd09fa27"
      },
      "source": [
        "You can see that we got a very small degradation with a compression rate of x4 !\n",
        "Now, we can export the quantized model to ONNX:"
      ]
    },
    {
      "cell_type": "code",
      "execution_count": 14,
      "id": "oXMn6bFjbQad",
      "metadata": {
        "id": "oXMn6bFjbQad",
        "colab": {
          "base_uri": "https://localhost:8080/"
        },
        "outputId": "d83eb59c-0279-4173-b418-d4eaf84891d7"
      },
      "outputs": [
        {
          "output_type": "stream",
          "name": "stderr",
          "text": [
            "WARNING:Model Compression Toolkit:Attribute 'metadata' not found in the model or its submodules.\n",
            "/usr/local/lib/python3.12/dist-packages/mct_quantizers/pytorch/quantizers/weights_inferable_quantizers/weights_symmetric_inferable_quantizer.py:52: TracerWarning: torch.tensor results are registered as constants in the trace. You can safely ignore this warning if you use this function to create tensors out of constant variables that would be the same every time you call this function. In any other case, this might cause the trace to be incorrect.\n",
            "  threshold = torch.tensor(threshold, dtype=torch.float32).to(get_working_device())\n"
          ]
        }
      ],
      "source": [
        "mct.exporter.pytorch_export_model(quantized_model, save_model_path='qmodel.onnx', repr_dataset=representative_dataset_gen)"
      ]
    },
    {
      "cell_type": "markdown",
      "id": "bb7e1572",
      "metadata": {
        "id": "bb7e1572"
      },
      "source": [
        "## Conclusion\n",
        "\n",
        "In this tutorial, we demonstrated how to quantize a classification model for MNIST in a hardware-friendly manner using MCT. We observed that a 4x compression ratio was achieved with minimal performance degradation.\n",
        "\n",
        "The key advantage of hardware-friendly quantization is that the model can run more efficiently in terms of runtime, power consumption, and memory usage on designated hardware.\n",
        "\n",
        "MCT can deliver competitive results across a wide range of tasks and network architectures. For more details, [check out the paper:](https://arxiv.org/abs/2109.09113).\n",
        "\n",
        "## Copyrights\n",
        "\n",
        "Copyright 2024 Sony Semiconductor Solutions, Inc. All rights reserved.\n",
        "\n",
        "Licensed under the Apache License, Version 2.0 (the \"License\");\n",
        "you may not use this file except in compliance with the License.\n",
        "You may obtain a copy of the License at\n",
        "\n",
        "    http://www.apache.org/licenses/LICENSE-2.0\n",
        "\n",
        "Unless required by applicable law or agreed to in writing, software\n",
        "distributed under the License is distributed on an \"AS IS\" BASIS,\n",
        "WITHOUT WARRANTIES OR CONDITIONS OF ANY KIND, either express or implied.\n",
        "See the License for the specific language governing permissions and\n",
        "limitations under the License.\n"
      ]
    }
  ],
  "metadata": {
    "colab": {
      "provenance": []
    },
    "kernelspec": {
      "display_name": "Python 3 (ipykernel)",
      "language": "python",
      "name": "python3"
    },
    "language_info": {
      "codemirror_mode": {
        "name": "ipython",
        "version": 3
      },
      "file_extension": ".py",
      "mimetype": "text/x-python",
      "name": "python",
      "nbconvert_exporter": "python",
      "pygments_lexer": "ipython3",
      "version": "3.10.4"
    }
  },
  "nbformat": 4,
  "nbformat_minor": 5
}